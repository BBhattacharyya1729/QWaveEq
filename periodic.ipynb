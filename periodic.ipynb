{
 "cells": [
  {
   "cell_type": "code",
   "execution_count": 1,
   "id": "7b072249",
   "metadata": {},
   "outputs": [],
   "source": [
    "from wave_circuit import *"
   ]
  },
  {
   "cell_type": "code",
   "execution_count": null,
   "id": "0f7d5e50",
   "metadata": {},
   "outputs": [],
   "source": []
  },
  {
   "cell_type": "code",
   "execution_count": 15,
   "id": "13f2d676",
   "metadata": {},
   "outputs": [
    {
     "data": {
      "text/plain": [
       "[<matplotlib.lines.Line2D at 0x20677233980>]"
      ]
     },
     "execution_count": 15,
     "metadata": {},
     "output_type": "execute_result"
    },
    {
     "data": {
      "image/png": "[encoded data removed]",
      "text/plain": [
       "<Figure size 640x480 with 1 Axes>"
      ]
     },
     "metadata": {},
     "output_type": "display_data"
    }
   ],
   "source": [
    "from qiskit.quantum_info import Operator\n",
    "import matplotlib.pyplot as plt\n",
    "U = Operator(SQFT_circuit(4).reverse_bits()).data\n",
    "O = L_P(2**4)\n",
    "plt.plot(np.diag(U.conjugate().T @ O @ U).real)\n",
    "plt.plot(spectrum_P(16))"
   ]
  },
  {
   "cell_type": "code",
   "execution_count": null,
   "id": "2429ed84",
   "metadata": {},
   "outputs": [],
   "source": []
  },
  {
   "cell_type": "code",
   "execution_count": null,
   "id": "2e60ebab",
   "metadata": {},
   "outputs": [],
   "source": []
  },
  {
   "cell_type": "code",
   "execution_count": 3,
   "id": "5b576de7",
   "metadata": {},
   "outputs": [],
   "source": [
    "import scipy\n",
    "n = 4\n",
    "t = 0.1\n",
    "O1 = scipy.linalg.expm(-1j * t * linear_Ham_P(2**n) )"
   ]
  },
  {
   "cell_type": "code",
   "execution_count": 306,
   "id": "8dffd2ec",
   "metadata": {},
   "outputs": [],
   "source": [
    "O2 = Operator(evolve_circ_P(n,0.1).reverse_bits()).data"
   ]
  },
  {
   "cell_type": "code",
   "execution_count": 307,
   "id": "5c423a23",
   "metadata": {},
   "outputs": [
    {
     "data": {
      "text/plain": [
       "np.float64(31.999999999999968)"
      ]
     },
     "execution_count": 307,
     "metadata": {},
     "output_type": "execute_result"
    }
   ],
   "source": [
    "abs(np.trace(O1.T.conjugate() @ O2))"
   ]
  },
  {
   "cell_type": "code",
   "execution_count": null,
   "id": "654857da",
   "metadata": {},
   "outputs": [],
   "source": []
  },
  {
   "cell_type": "code",
   "execution_count": 281,
   "id": "23f5c38d",
   "metadata": {},
   "outputs": [
    {
     "data": {
      "text/html": [
       "<pre style=\"word-wrap: normal;white-space: pre;background: #fff0;line-height: 1.1;font-family: &quot;Courier New&quot;,Courier,monospace\">     ┌───┐┌────────────┐                                                                                                                                                                                                                                      ┌───┐                                                                                                       \n",
       "q_0: ┤ H ├┤ P(-20.106) ├─────────────────────────────────────────────────────────────────────────────────────────────────────────────────────────────────────────────────────────────■───────────■───────────────■──────────────■──────────────────■──────────┤ H ├───────────────────────────────────────────────────────────────────────────────────────────────────────\n",
       "     ├───┤└───┬───┬────┘                                                                                                                                      ┌───┐    ┌───────────┐ │P(20.106)  │         ┌───┐ │        ┌───┐ │                  │          └───┘                                                                                                  ┌───┐\n",
       "q_1: ┤ X ├────┤ H ├──────■─────────■──────────────■───────────────────■──────────────────────────────────────────────────────────────────────────────────X────┤ X ├────┤ P(-16π/5) ├─■───────────┼─────────┤ X ├─┼────────┤ H ├─┼─────────■────────┼─────────■─────────────■─────────────────■─────────────────────────────────────────────────────────────────────X─┤ X ├\n",
       "     └───┘    └───┘      │P(-π/2)  │        ┌───┐ │                   │                                                                                  │ ┌──┴───┴───┐└───────────┘             │P(16π/5) └───┘ │        └───┘ │         │P(π/2)  │         │       ┌───┐ │                 │                                                                     │ └───┘\n",
       "q_2: ────────────────────■─────────┼────────┤ H ├─┼─────────■─────────┼──────────■──────────────■────────────────────────────────────────────────────X───┼─┤ P(-8π/5) ├──────────────────────────■───────────────┼──────────────┼─────────■────────┼─────────┼───────┤ H ├─┼────────■────────┼─────────■─────────────■─────────────────────────────────────────X───┼──────\n",
       "                                   │P(-π/4) └───┘ │         │P(-π/2)  │          │        ┌───┐ │                            ┌──────────┐            │   │ └──────────┘                                          │P(8π/5)       │                  │         │P(π/4) └───┘ │        │P(π/2)  │         │       ┌───┐ │                                         │   │      \n",
       "q_3: ──────────────────────────────■──────────────┼─────────■─────────┼──────────┼────────┤ H ├─┼─────────■─────────■────────┤ P(-4π/5) ├────────────┼───┼───────────────────────────────────────────────────────■──────────────┼──────────────────┼─────────■─────────────┼────────■────────┼─────────┼───────┤ H ├─┼────────■────────■───────────────────────┼───┼──────\n",
       "                                                  │P(-π/8)            │          │P(-π/4) └───┘ │         │P(-π/2)  │        └──┬───┬───┘            │   │ ┌──────────┐                                                         │P(4π/5)           │                       │P(π/8)           │         │P(π/4) └───┘ │        │P(π/2)  │       ┌───┐           │   │      \n",
       "q_4: ─────────────────────────────────────────────■───────────────────┼──────────■──────────────┼─────────■─────────┼───────────┤ H ├─────■──────────X───┼─┤ P(-2π/5) ├─────────────────────────────────────────────────────────■──────────────────┼───────────────────────■─────────────────┼─────────■─────────────┼────────■────────┼───────┤ H ├─■─────────X───┼──────\n",
       "                                                                      │P(-π/16)                 │P(-π/8)            │P(-π/4)    └───┘     │P(-π/2) ┌───┐ │ ├─────────┬┘                                                                            │P(2π/5)                                  │P(π/16)                │P(π/8)           │P(π/4) └───┘ │P(π/2) ┌───┐ │      \n",
       "q_5: ─────────────────────────────────────────────────────────────────■─────────────────────────■───────────────────■─────────────────────■────────┤ H ├─X─┤ P(-π/5) ├─────────────────────────────────────────────────────────────────────────────■─────────────────────────────────────────■───────────────────────■─────────────────■─────────────■───────┤ H ├─X──────\n",
       "                                                                                                                                                   └───┘   └─────────┘                                                                                                                                                                                       └───┘        </pre>"
      ],
      "text/plain": [
       "     ┌───┐┌────────────┐                                                                                                                                                                                                                                      ┌───┐                                                                                                       \n",
       "q_0: ┤ H ├┤ P(-20.106) ├─────────────────────────────────────────────────────────────────────────────────────────────────────────────────────────────────────────────────────────────■───────────■───────────────■──────────────■──────────────────■──────────┤ H ├───────────────────────────────────────────────────────────────────────────────────────────────────────\n",
       "     ├───┤└───┬───┬────┘                                                                                                                                      ┌───┐    ┌───────────┐ │P(20.106)  │         ┌───┐ │        ┌───┐ │                  │          └───┘                                                                                                  ┌───┐\n",
       "q_1: ┤ X ├────┤ H ├──────■─────────■──────────────■───────────────────■──────────────────────────────────────────────────────────────────────────────────X────┤ X ├────┤ P(-16π/5) ├─■───────────┼─────────┤ X ├─┼────────┤ H ├─┼─────────■────────┼─────────■─────────────■─────────────────■─────────────────────────────────────────────────────────────────────X─┤ X ├\n",
       "     └───┘    └───┘      │P(-π/2)  │        ┌───┐ │                   │                                                                                  │ ┌──┴───┴───┐└───────────┘             │P(16π/5) └───┘ │        └───┘ │         │P(π/2)  │         │       ┌───┐ │                 │                                                                     │ └───┘\n",
       "q_2: ────────────────────■─────────┼────────┤ H ├─┼─────────■─────────┼──────────■──────────────■────────────────────────────────────────────────────X───┼─┤ P(-8π/5) ├──────────────────────────■───────────────┼──────────────┼─────────■────────┼─────────┼───────┤ H ├─┼────────■────────┼─────────■─────────────■─────────────────────────────────────────X───┼──────\n",
       "                                   │P(-π/4) └───┘ │         │P(-π/2)  │          │        ┌───┐ │                            ┌──────────┐            │   │ └──────────┘                                          │P(8π/5)       │                  │         │P(π/4) └───┘ │        │P(π/2)  │         │       ┌───┐ │                                         │   │      \n",
       "q_3: ──────────────────────────────■──────────────┼─────────■─────────┼──────────┼────────┤ H ├─┼─────────■─────────■────────┤ P(-4π/5) ├────────────┼───┼───────────────────────────────────────────────────────■──────────────┼──────────────────┼─────────■─────────────┼────────■────────┼─────────┼───────┤ H ├─┼────────■────────■───────────────────────┼───┼──────\n",
       "                                                  │P(-π/8)            │          │P(-π/4) └───┘ │         │P(-π/2)  │        └──┬───┬───┘            │   │ ┌──────────┐                                                         │P(4π/5)           │                       │P(π/8)           │         │P(π/4) └───┘ │        │P(π/2)  │       ┌───┐           │   │      \n",
       "q_4: ─────────────────────────────────────────────■───────────────────┼──────────■──────────────┼─────────■─────────┼───────────┤ H ├─────■──────────X───┼─┤ P(-2π/5) ├─────────────────────────────────────────────────────────■──────────────────┼───────────────────────■─────────────────┼─────────■─────────────┼────────■────────┼───────┤ H ├─■─────────X───┼──────\n",
       "                                                                      │P(-π/16)                 │P(-π/8)            │P(-π/4)    └───┘     │P(-π/2) ┌───┐ │ ├─────────┬┘                                                                            │P(2π/5)                                  │P(π/16)                │P(π/8)           │P(π/4) └───┘ │P(π/2) ┌───┐ │      \n",
       "q_5: ─────────────────────────────────────────────────────────────────■─────────────────────────■───────────────────■─────────────────────■────────┤ H ├─X─┤ P(-π/5) ├─────────────────────────────────────────────────────────────────────────────■─────────────────────────────────────────■───────────────────────■─────────────────■─────────────■───────┤ H ├─X──────\n",
       "                                                                                                                                                   └───┘   └─────────┘                                                                                                                                                                                       └───┘        "
      ]
     },
     "execution_count": 281,
     "metadata": {},
     "output_type": "execute_result"
    }
   ],
   "source": [
    "evolve_circ_P(5,0.1).draw(fold=-1)"
   ]
  },
  {
   "cell_type": "code",
   "execution_count": 96,
   "id": "282fa8a5",
   "metadata": {},
   "outputs": [
    {
     "data": {
      "text/plain": [
       "[<matplotlib.lines.Line2D at 0x1b0d0fac950>]"
      ]
     },
     "execution_count": 96,
     "metadata": {},
     "output_type": "execute_result"
    },
    {
     "data": {
      "image/png": "[encoded data removed]",
      "text/plain": [
       "<Figure size 640x480 with 1 Axes>"
      ]
     },
     "metadata": {},
     "output_type": "display_data"
    }
   ],
   "source": [
    "import matplotlib.pyplot as plt\n",
    "# M  = QFT_matrix(32) @ L_P(32) @ IQFT_matrix(32)\n",
    "# plt.plot(np.diag(M).real)\n",
    "# plt.plot(np.sqrt(-spectrum_P(32)))\n",
    "plt.plot(linear_spectrum_P(32))\n",
    "# plt.plot(linear_spectrum_N(32))"
   ]
  },
  {
   "cell_type": "code",
   "execution_count": 269,
   "id": "daf33652",
   "metadata": {},
   "outputs": [
    {
     "data": {
      "text/html": [
       "<pre style=\"word-wrap: normal;white-space: pre;background: #fff0;line-height: 1.1;font-family: &quot;Courier New&quot;,Courier,monospace\">     ┌────────────┐                                                     \n",
       "q_0: ┤ P(-20.106) ├─■───────────■──────────■─────────■─────────■────────\n",
       "     ├───────────┬┘ │P(20.106)  │          │         │         │        \n",
       "q_1: ┤ P(-16π/5) ├──■───────────┼──────────┼─────────┼─────────┼────────\n",
       "     └┬──────────┤              │P(16π/5)  │         │         │        \n",
       "q_2: ─┤ P(-8π/5) ├──────────────■──────────┼─────────┼─────────┼────────\n",
       "      ├──────────┤                         │P(8π/5)  │         │        \n",
       "q_3: ─┤ P(-4π/5) ├─────────────────────────■─────────┼─────────┼────────\n",
       "      ├──────────┤                                   │P(4π/5)  │        \n",
       "q_4: ─┤ P(-2π/5) ├───────────────────────────────────■─────────┼────────\n",
       "      ├─────────┬┘                                             │P(2π/5) \n",
       "q_5: ─┤ P(-π/5) ├──────────────────────────────────────────────■────────\n",
       "      └─────────┘                                                       </pre>"
      ],
      "text/plain": [
       "     ┌────────────┐                                                     \n",
       "q_0: ┤ P(-20.106) ├─■───────────■──────────■─────────■─────────■────────\n",
       "     ├───────────┬┘ │P(20.106)  │          │         │         │        \n",
       "q_1: ┤ P(-16π/5) ├──■───────────┼──────────┼─────────┼─────────┼────────\n",
       "     └┬──────────┤              │P(16π/5)  │         │         │        \n",
       "q_2: ─┤ P(-8π/5) ├──────────────■──────────┼─────────┼─────────┼────────\n",
       "      ├──────────┤                         │P(8π/5)  │         │        \n",
       "q_3: ─┤ P(-4π/5) ├─────────────────────────■─────────┼─────────┼────────\n",
       "      ├──────────┤                                   │P(4π/5)  │        \n",
       "q_4: ─┤ P(-2π/5) ├───────────────────────────────────■─────────┼────────\n",
       "      ├─────────┬┘                                             │P(2π/5) \n",
       "q_5: ─┤ P(-π/5) ├──────────────────────────────────────────────■────────\n",
       "      └─────────┘                                                       "
      ]
     },
     "execution_count": 269,
     "metadata": {},
     "output_type": "execute_result"
    }
   ],
   "source": [
    "n = 5\n",
    "t = 0.1\n",
    "qc = QuantumCircuit(n+1)\n",
    "for i in range(-1,n):\n",
    "    qc.p(-np.pi*t*(2**(n-i)),i+1)\n",
    "for i in range(0,n):\n",
    "    qc.cp(np.pi*t*(2**(n-i+1)),0,i+1)\n",
    "qc.draw()"
   ]
  },
  {
   "cell_type": "code",
   "execution_count": 270,
   "id": "aaa5927e",
   "metadata": {},
   "outputs": [],
   "source": [
    "v1 = np.diag(Operator(qc.reverse_bits()).data)"
   ]
  },
  {
   "cell_type": "code",
   "execution_count": 271,
   "id": "27fa9e3a",
   "metadata": {},
   "outputs": [],
   "source": [
    "v2 = np.exp(np.kron([1,-1],linear_spectrum_P(2**n) * 2**n) * -1j * t)"
   ]
  },
  {
   "cell_type": "code",
   "execution_count": 272,
   "id": "38b6c34a",
   "metadata": {},
   "outputs": [
    {
     "data": {
      "text/plain": [
       "array([ 0.00000000e+00+0.00000000e+00j, -1.00000000e+00-4.41743706e-17j,\n",
       "       -2.00000000e+00+5.52179632e-17j, -3.00000000e+00-9.93923338e-17j,\n",
       "       -4.00000000e+00-0.00000000e+00j, -5.00000000e+00-9.80868066e-33j,\n",
       "        4.00000000e+00-8.83487412e-17j,  3.00000000e+00-2.09828260e-16j,\n",
       "        2.00000000e+00-1.10435926e-17j,  1.00000000e+00+0.00000000e+00j,\n",
       "        4.41743706e-16-6.13042541e-32j, -1.00000000e+00-0.00000000e+00j,\n",
       "       -2.00000000e+00+5.52179632e-17j, -3.00000000e+00-9.93923338e-17j,\n",
       "       -4.00000000e+00+8.83487412e-17j, -5.00000000e+00-1.98625783e-31j,\n",
       "        4.00000000e+00+0.00000000e+00j,  3.00000000e+00+3.31307779e-17j,\n",
       "        2.00000000e+00+9.93923338e-17j,  1.00000000e+00+1.76697482e-16j,\n",
       "        8.83487412e-16-2.45217017e-31j, -1.00000000e+00-4.41743706e-17j,\n",
       "       -2.00000000e+00+1.10435926e-16j, -3.00000000e+00+6.62615559e-17j,\n",
       "       -4.00000000e+00+8.83487412e-17j, -5.00000000e+00-2.96712590e-31j,\n",
       "        4.00000000e+00+1.76697482e-16j,  3.00000000e+00+1.43566704e-16j,\n",
       "        2.00000000e+00+8.83487412e-17j,  1.00000000e+00+0.00000000e+00j,\n",
       "        1.23688238e-15+1.76697482e-16j, -1.00000000e+00+2.65046223e-16j,\n",
       "       -2.00000000e+00+3.31307779e-17j, -1.00000000e+00+4.41743706e-17j,\n",
       "        1.06018489e-15-3.53112504e-31j,  1.00000000e+00+8.83487412e-17j,\n",
       "        2.00000000e+00+1.98784668e-16j,  3.00000000e+00+5.52179632e-17j,\n",
       "        4.00000000e+00+1.76697482e-16j, -5.00000000e+00+1.76697482e-16j,\n",
       "       -4.00000000e+00-4.41743706e-17j, -3.00000000e+00-1.10435926e-17j,\n",
       "       -2.00000000e+00-0.00000000e+00j, -1.00000000e+00-1.32523112e-16j,\n",
       "        7.95138670e-16-1.98625783e-31j,  1.00000000e+00+4.41743706e-17j,\n",
       "        2.00000000e+00+4.41743706e-17j,  3.00000000e+00-2.31915446e-16j,\n",
       "        4.00000000e+00-1.32523112e-16j, -5.00000000e+00+1.76697482e-16j,\n",
       "       -4.00000000e+00+1.32523112e-16j, -3.00000000e+00-1.10435926e-17j,\n",
       "       -2.00000000e+00-8.83487412e-17j, -1.00000000e+00-0.00000000e+00j,\n",
       "        3.53394965e-16+1.76697482e-16j,  1.00000000e+00+4.41743706e-17j,\n",
       "        2.00000000e+00-1.10435926e-17j,  3.00000000e+00+0.00000000e+00j,\n",
       "        4.00000000e+00+4.41743706e-17j, -5.00000000e+00+1.76697482e-16j,\n",
       "       -4.00000000e+00+1.32523112e-16j, -3.00000000e+00+1.32523112e-16j,\n",
       "       -2.00000000e+00+2.20871853e-17j, -1.00000000e+00-4.41743706e-17j])"
      ]
     },
     "execution_count": 272,
     "metadata": {},
     "output_type": "execute_result"
    }
   ],
   "source": [
    "np.log(v1)*5/(1j*np.pi)"
   ]
  },
  {
   "cell_type": "code",
   "execution_count": 273,
   "id": "9d0cc47d",
   "metadata": {},
   "outputs": [
    {
     "data": {
      "text/plain": [
       "array([ 0.00000000e+00+0.00000000e+00j, -1.00000000e+00+4.41743706e-17j,\n",
       "       -2.00000000e+00+2.20871853e-17j, -3.00000000e+00+1.43566704e-16j,\n",
       "       -4.00000000e+00-0.00000000e+00j, -5.00000000e+00-2.56794594e-32j,\n",
       "        4.00000000e+00+1.32523112e-16j,  3.00000000e+00-3.31307779e-17j,\n",
       "        2.00000000e+00-1.76697482e-16j,  1.00000000e+00+4.41743706e-17j,\n",
       "        5.71805064e-16-1.02717837e-31j, -1.00000000e+00-8.83487412e-17j,\n",
       "       -2.00000000e+00-5.52179632e-17j, -3.00000000e+00-5.52179632e-17j,\n",
       "       -4.00000000e+00+1.76697482e-16j, -5.00000000e+00-1.08495716e-30j,\n",
       "        4.00000000e+00+0.00000000e+00j,  3.00000000e+00+1.87741075e-16j,\n",
       "        2.00000000e+00-4.41743706e-17j,  1.00000000e+00+0.00000000e+00j,\n",
       "        8.57707596e-16-2.31115134e-31j, -1.00000000e+00+4.41743706e-17j,\n",
       "       -2.00000000e+00-1.10435926e-17j, -3.00000000e+00-4.41743706e-17j,\n",
       "       -4.00000000e+00+8.83487412e-17j,  5.00000000e+00-5.77787836e-32j,\n",
       "        4.00000000e+00+0.00000000e+00j,  3.00000000e+00+8.83487412e-17j,\n",
       "        2.00000000e+00-9.93923338e-17j,  1.00000000e+00-4.41743706e-17j,\n",
       "        4.00263545e-15-5.03317403e-30j, -1.00000000e+00+4.41743706e-17j,\n",
       "       -2.00000000e+00-0.00000000e+00j, -1.00000000e+00+4.41743706e-17j,\n",
       "        1.14361013e-15-4.10871350e-31j,  1.00000000e+00-4.41743706e-17j,\n",
       "        2.00000000e+00-9.93923338e-17j,  3.00000000e+00+8.83487412e-17j,\n",
       "        4.00000000e+00-8.83487412e-17j, -5.00000000e+00-3.14573377e-31j,\n",
       "       -4.00000000e+00+8.83487412e-17j, -3.00000000e+00+1.10435926e-17j,\n",
       "       -2.00000000e+00+1.43566704e-16j, -1.00000000e+00+4.41743706e-17j,\n",
       "        8.57707596e-16-2.31115134e-31j,  1.00000000e+00+0.00000000e+00j,\n",
       "        2.00000000e+00-4.41743706e-17j,  3.00000000e+00+1.87741075e-16j,\n",
       "        4.00000000e+00+0.00000000e+00j, -5.00000000e+00-1.08495716e-30j,\n",
       "       -4.00000000e+00+1.76697482e-16j, -3.00000000e+00-5.52179632e-17j,\n",
       "       -2.00000000e+00-5.52179632e-17j, -1.00000000e+00-8.83487412e-17j,\n",
       "       -1.71541519e-15-9.24460537e-31j,  1.00000000e+00+3.09220594e-16j,\n",
       "        2.00000000e+00-1.76697482e-16j,  3.00000000e+00+5.52179632e-17j,\n",
       "        4.00000000e+00+8.83487412e-17j, -5.00000000e+00-2.56794594e-32j,\n",
       "       -4.00000000e+00-0.00000000e+00j, -3.00000000e+00+1.43566704e-16j,\n",
       "       -2.00000000e+00+1.10435926e-17j, -1.00000000e+00+4.41743706e-17j])"
      ]
     },
     "execution_count": 273,
     "metadata": {},
     "output_type": "execute_result"
    }
   ],
   "source": [
    "np.log(v2/v2[0])*5/(1j*np.pi)"
   ]
  },
  {
   "cell_type": "code",
   "execution_count": 274,
   "id": "5dde9339",
   "metadata": {},
   "outputs": [
    {
     "data": {
      "text/plain": [
       "np.float64(64.0)"
      ]
     },
     "execution_count": 274,
     "metadata": {},
     "output_type": "execute_result"
    }
   ],
   "source": [
    "abs(v1.conjugate() @ v2)"
   ]
  },
  {
   "cell_type": "code",
   "execution_count": null,
   "id": "e1b38271",
   "metadata": {},
   "outputs": [],
   "source": []
  },
  {
   "cell_type": "code",
   "execution_count": 148,
   "id": "82a22250",
   "metadata": {},
   "outputs": [
    {
     "data": {
      "text/plain": [
       "(-0.8090169802461293-0.587785238482837j)"
      ]
     },
     "execution_count": 148,
     "metadata": {},
     "output_type": "execute_result"
    }
   ],
   "source": [
    "x = 0.80901699-0.58778525j\n",
    "x * x * x * x"
   ]
  },
  {
   "cell_type": "code",
   "execution_count": null,
   "id": "3e2e319d",
   "metadata": {},
   "outputs": [],
   "source": []
  },
  {
   "cell_type": "code",
   "execution_count": 130,
   "id": "23fb3c9d",
   "metadata": {},
   "outputs": [
    {
     "data": {
      "text/plain": [
       "np.complex128(-1.5555449755871486e-09-0.79999999977181j)"
      ]
     },
     "execution_count": 130,
     "metadata": {},
     "output_type": "execute_result"
    }
   ],
   "source": [
    "np.log(-0.80901699-0.58778525j)/np.pi"
   ]
  },
  {
   "cell_type": "code",
   "execution_count": null,
   "id": "5fe2b5df",
   "metadata": {},
   "outputs": [],
   "source": []
  },
  {
   "cell_type": "code",
   "execution_count": null,
   "id": "ea62c744",
   "metadata": {},
   "outputs": [
    {
     "data": {
      "text/plain": [
       "array([-0.00000000e+00+0.00000000e+00j,  1.96349541e-01+8.67361738e-18j,\n",
       "        3.92699082e-01-1.08420217e-17j,  5.89048623e-01+1.95156391e-17j,\n",
       "        7.85398163e-01-0.00000000e+00j,  9.81747704e-01+1.92592994e-33j,\n",
       "       -7.85398163e-01+1.73472348e-17j, -5.89048623e-01+4.11996826e-17j,\n",
       "       -3.92699082e-01+2.16840434e-18j, -1.96349541e-01+0.00000000e+00j,\n",
       "       -8.67361738e-17+1.20370622e-32j,  1.96349541e-01-0.00000000e+00j,\n",
       "        3.92699082e-01-1.08420217e-17j,  5.89048623e-01+1.95156391e-17j,\n",
       "        7.85398163e-01-1.73472348e-17j,  9.81747704e-01+3.90000814e-32j,\n",
       "       -7.85398163e-01+0.00000000e+00j, -5.89048623e-01-6.50521303e-18j,\n",
       "       -3.92699082e-01-1.95156391e-17j, -1.96349541e-01-3.46944695e-17j,\n",
       "       -1.73472348e-16+4.81482486e-32j,  1.96349541e-01+8.67361738e-18j,\n",
       "        3.92699082e-01-2.16840434e-17j,  5.89048623e-01-1.30104261e-17j,\n",
       "        7.85398163e-01-1.73472348e-17j,  9.81747704e-01+5.82593808e-32j,\n",
       "       -7.85398163e-01-3.46944695e-17j, -5.89048623e-01-2.81892565e-17j,\n",
       "       -3.92699082e-01-1.73472348e-17j, -1.96349541e-01+0.00000000e+00j,\n",
       "       -2.42861287e-16-3.46944695e-17j,  1.96349541e-01-5.20417043e-17j,\n",
       "       -0.00000000e+00+0.00000000e+00j, -1.96349541e-01+8.67361738e-18j,\n",
       "       -3.92699082e-01+0.00000000e+00j, -5.89048623e-01+8.67361738e-18j,\n",
       "       -7.85398163e-01-2.60208521e-17j, -9.81747704e-01+4.33334237e-33j,\n",
       "        7.85398163e-01+1.73472348e-17j,  5.89048623e-01-2.16840434e-17j,\n",
       "        3.92699082e-01+2.16840434e-18j,  1.96349541e-01-8.67361738e-18j,\n",
       "        1.04083409e-16+1.73333695e-32j, -1.96349541e-01+2.60208521e-17j,\n",
       "       -3.92699082e-01+0.00000000e+00j, -5.89048623e-01+8.67361738e-18j,\n",
       "       -7.85398163e-01-5.20417043e-17j, -9.81747704e-01+1.20370622e-32j,\n",
       "        7.85398163e-01-0.00000000e+00j,  5.89048623e-01-4.77048956e-17j,\n",
       "        3.92699082e-01-3.03576608e-17j,  1.96349541e-01-7.80625564e-17j,\n",
       "        1.38777878e-16+3.08148791e-32j, -1.96349541e-01-1.73472348e-17j,\n",
       "       -3.92699082e-01-3.25260652e-17j, -5.89048623e-01-1.95156391e-17j,\n",
       "       -7.85398163e-01-1.73472348e-17j, -9.81747704e-01+4.81482486e-32j,\n",
       "        7.85398163e-01-6.07153217e-17j,  5.89048623e-01-7.37257477e-17j,\n",
       "        3.92699082e-01-6.50521303e-18j,  1.96349541e-01-0.00000000e+00j,\n",
       "        2.77555756e-16+1.23259516e-31j, -1.96349541e-01-6.07153217e-17j])"
      ]
     },
     "execution_count": 100,
     "metadata": {},
     "output_type": "execute_result"
    }
   ],
   "source": [
    "np.log(v1)/(-1j * t * 2**n)"
   ]
  },
  {
   "cell_type": "code",
   "execution_count": 85,
   "id": "15951e4f",
   "metadata": {},
   "outputs": [
    {
     "data": {
      "text/plain": [
       "array([ 2.51327412e+01-0.00000000e+00j, -3.14159265e+01+6.74891902e-31j,\n",
       "       -2.51327412e+01-2.77555756e-16j, -1.88495559e+01-4.16333634e-16j,\n",
       "       -1.25663706e+01+5.55111512e-16j, -6.28318531e+00+0.00000000e+00j,\n",
       "        2.44929360e-15+2.99951957e-31j,  6.28318531e+00+5.55111512e-16j,\n",
       "        1.25663706e+01+6.93889390e-17j,  1.88495559e+01-0.00000000e+00j,\n",
       "        2.51327412e+01-2.77555756e-16j,  3.14159265e+01+2.93158766e-30j,\n",
       "       -2.51327412e+01+0.00000000e+00j, -1.88495559e+01-4.16333634e-16j,\n",
       "       -1.25663706e+01-3.46944695e-16j, -6.28318531e+00+0.00000000e+00j,\n",
       "       -0.00000000e+00+0.00000000e+00j,  6.28318531e+00-0.00000000e+00j,\n",
       "        1.25663706e+01-3.46944695e-16j,  1.88495559e+01-4.16333634e-16j,\n",
       "        2.51327412e+01-0.00000000e+00j, -3.14159265e+01+2.93158766e-30j,\n",
       "       -2.51327412e+01+2.77555756e-16j, -1.88495559e+01-3.46944695e-16j,\n",
       "       -1.25663706e+01+6.93889390e-17j, -6.28318531e+00-2.77555756e-16j,\n",
       "        1.53142748e-14+1.17263506e-29j,  6.28318531e+00-0.00000000e+00j,\n",
       "        1.25663706e+01+5.55111512e-16j,  1.88495559e+01-4.16333634e-16j,\n",
       "        2.51327412e+01+2.77555756e-16j,  3.14159265e+01+6.74891902e-31j,\n",
       "       -2.51327412e+01+0.00000000e+00j,  3.14159265e+01+6.74891902e-31j,\n",
       "        2.51327412e+01-2.77555756e-16j,  1.88495559e+01-4.16333634e-16j,\n",
       "        1.25663706e+01+5.55111512e-16j,  6.28318531e+00-0.00000000e+00j,\n",
       "       -2.44929360e-15+2.99951957e-31j, -6.28318531e+00+5.55111512e-16j,\n",
       "       -1.25663706e+01+6.93889390e-17j, -1.88495559e+01+0.00000000e+00j,\n",
       "       -2.51327412e+01-2.77555756e-16j, -3.14159265e+01+2.93158766e-30j,\n",
       "        2.51327412e+01-0.00000000e+00j,  1.88495559e+01-4.16333634e-16j,\n",
       "        1.25663706e+01-3.46944695e-16j,  6.28318531e+00-0.00000000e+00j,\n",
       "       -0.00000000e+00+0.00000000e+00j, -6.28318531e+00+0.00000000e+00j,\n",
       "       -1.25663706e+01-3.46944695e-16j, -1.88495559e+01-4.16333634e-16j,\n",
       "       -2.51327412e+01+0.00000000e+00j,  3.14159265e+01+2.93158766e-30j,\n",
       "        2.51327412e+01+2.77555756e-16j,  1.88495559e+01-3.46944695e-16j,\n",
       "        1.25663706e+01+6.93889390e-17j,  6.28318531e+00-2.77555756e-16j,\n",
       "       -1.53142748e-14+1.17263506e-29j, -6.28318531e+00+0.00000000e+00j,\n",
       "       -1.25663706e+01+5.55111512e-16j, -1.88495559e+01-4.16333634e-16j,\n",
       "       -2.51327412e+01+2.77555756e-16j, -3.14159265e+01+6.74891902e-31j])"
      ]
     },
     "execution_count": 85,
     "metadata": {},
     "output_type": "execute_result"
    }
   ],
   "source": [
    "np.log(v2)/(-1j * t)"
   ]
  },
  {
   "cell_type": "code",
   "execution_count": null,
   "id": "a64a0cdc",
   "metadata": {},
   "outputs": [],
   "source": []
  }
 ],
 "metadata": {
  "kernelspec": {
   "display_name": "QPDE",
   "language": "python",
   "name": "python3"
  },
  "language_info": {
   "codemirror_mode": {
    "name": "ipython",
    "version": 3
   },
   "file_extension": ".py",
   "mimetype": "text/x-python",
   "name": "python",
   "nbconvert_exporter": "python",
   "pygments_lexer": "ipython3",
   "version": "3.12.0"
  }
 },
 "nbformat": 4,
 "nbformat_minor": 5
}
