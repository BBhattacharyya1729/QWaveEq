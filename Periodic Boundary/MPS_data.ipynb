{
 "cells": [
  {
   "cell_type": "code",
   "execution_count": 1,
   "id": "86a93dcf",
   "metadata": {},
   "outputs": [],
   "source": [
    "import sys \n",
    "sys.path.append(\"../\")"
   ]
  },
  {
   "cell_type": "code",
   "execution_count": 2,
   "id": "69bd5fb7",
   "metadata": {},
   "outputs": [],
   "source": [
    "from mps_utils import * \n",
    "from wave_circuit import * \n",
    "import matplotlib.pyplot as plt \n",
    "import pickle"
   ]
  },
  {
   "cell_type": "code",
   "execution_count": 3,
   "id": "7e745574",
   "metadata": {},
   "outputs": [],
   "source": [
    "f1 = lambda x :  np.exp(-(x/2-0.5)**2/0.01)\n",
    "df1 = lambda x: ( -(x/2-0.5)/(0.01) ) * f1(x)\n",
    "\n",
    "f2 = lambda x :  (x/2-0.5)/0.01 * f1(x)\n",
    "df2 = lambda x: (x/2-0.5)/0.01 * df1(x) + 50 * f1(x)\n",
    "\n",
    "f3 = lambda x: (1-(x/2-0.5)**2/0.01) * f1(x)\n",
    "df3 = lambda x: -(x/2-0.5)/0.01 * f1(x) + (1-(x/2-0.5)**2/0.01)*df1(x)\n",
    "\n",
    "m = 4\n",
    "l = 2**m\n",
    "x_coarse = np.linspace(0,1,l+1)"
   ]
  },
  {
   "cell_type": "code",
   "execution_count": 4,
   "id": "3b890fbe",
   "metadata": {},
   "outputs": [],
   "source": [
    "p1 = get_polys(x_coarse,f1,df1)\n",
    "p2 = get_polys(x_coarse,f2,df2)\n",
    "p3 = get_polys(x_coarse,f3,df3)\n",
    "\n",
    "def apply(p,x):\n",
    "    return np.dot(p,[x**i for i in range(len(p))])"
   ]
  },
  {
   "cell_type": "code",
   "execution_count": 19,
   "id": "38a68200",
   "metadata": {},
   "outputs": [],
   "source": [
    "n = 4\n",
    "N = 2**(n)\n",
    "x = np.linspace(0, 1 - 1/N, N)"
   ]
  },
  {
   "cell_type": "code",
   "execution_count": 20,
   "id": "4e840104",
   "metadata": {},
   "outputs": [],
   "source": [
    "M_list1 = []\n",
    "for i,p in enumerate(p1):\n",
    "    reg = [i//2**_%2 for _ in range(m)[::-1]]\n",
    "    M = MPS_poly(n,p,reg)\n",
    "    M_list1.append(M)\n",
    "\n",
    "M_full1 = (reduce(lambda a,b: MPS_sum(a,b),M_list1))\n",
    "\n",
    "M_list2 = []\n",
    "for i,p in enumerate(p2):\n",
    "    reg = [i//2**_%2 for _ in range(m)[::-1]]\n",
    "    M = MPS_poly(n,p,reg)\n",
    "    M_list2.append(M)\n",
    "\n",
    "M_full2 = (reduce(lambda a,b: MPS_sum(a,b),M_list2))\n",
    "\n",
    "M_list3 = []\n",
    "for i,p in enumerate(p3):\n",
    "    reg = [i//2**_%2 for _ in range(m)[::-1]]\n",
    "    M = MPS_poly(n,p,reg)\n",
    "    M_list3.append(M)\n",
    "\n",
    "M_full3 = (reduce(lambda a,b: MPS_sum(a,b),M_list3))\n",
    "\n",
    "M_final1 = trunc_mps(M_full1,2)\n",
    "M_final2 = trunc_mps(M_full2,2)\n",
    "M_final3 = trunc_mps(M_full3,2)"
   ]
  },
  {
   "cell_type": "code",
   "execution_count": 21,
   "id": "06122b26",
   "metadata": {},
   "outputs": [
    {
     "data": {
      "text/plain": [
       "[<matplotlib.lines.Line2D at 0x2b54d819700>]"
      ]
     },
     "execution_count": 21,
     "metadata": {},
     "output_type": "execute_result"
    },
    {
     "data": {
      "image/png": "[encoded data removed]",
      "text/plain": [
       "<Figure size 640x480 with 1 Axes>"
      ]
     },
     "metadata": {},
     "output_type": "display_data"
    }
   ],
   "source": [
    "plt.plot(get_state(M_final1))\n",
    "v = [f1(_) for _ in x]\n",
    "plt.plot(v/np.linalg.norm(v))"
   ]
  }
 ],
 "metadata": {
  "kernelspec": {
   "display_name": "QPDE",
   "language": "python",
   "name": "python3"
  },
  "language_info": {
   "codemirror_mode": {
    "name": "ipython",
    "version": 3
   },
   "file_extension": ".py",
   "mimetype": "text/x-python",
   "name": "python",
   "nbconvert_exporter": "python",
   "pygments_lexer": "ipython3",
   "version": "3.12.0"
  }
 },
 "nbformat": 4,
 "nbformat_minor": 5
}
